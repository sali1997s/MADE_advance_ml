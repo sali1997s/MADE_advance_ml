{
 "cells": [
  {
   "cell_type": "code",
   "execution_count": 151,
   "metadata": {},
   "outputs": [],
   "source": [
    "import pandas as pd\n",
    "import numpy as np\n",
    "import re\n",
    "from tqdm import tqdm\n",
    "from sklearn.preprocessing import OneHotEncoder\n",
    "from scipy.sparse import csr_matrix, hstack\n",
    "from sklearn.linear_model import LogisticRegression\n",
    "import pickle"
   ]
  },
  {
   "cell_type": "markdown",
   "metadata": {},
   "source": [
    "## Task 1"
   ]
  },
  {
   "cell_type": "code",
   "execution_count": 2,
   "metadata": {},
   "outputs": [],
   "source": [
    "players = pd.read_pickle('./data_hw3/players.pkl')\n",
    "tournaments = pd.read_pickle('./data_hw3/tournaments.pkl')\n",
    "results = pd.read_pickle('./data_hw3/results.pkl')"
   ]
  },
  {
   "cell_type": "code",
   "execution_count": 3,
   "metadata": {},
   "outputs": [],
   "source": [
    "def has_teamMembers_and_mask(tournament):\n",
    "    flg = True\n",
    "    for team in tournament:\n",
    "        if (len(team['teamMembers']) == 0) or (team.get('mask') is None):\n",
    "            flg = False\n",
    "    return flg"
   ]
  },
  {
   "cell_type": "code",
   "execution_count": 4,
   "metadata": {},
   "outputs": [],
   "source": [
    "# поправка на наличие инфо о составе и ответах по вопросам\n",
    "results_corrected  = {i : results[i] for i in results.keys() if has_teamMembers_and_mask(results[i])}"
   ]
  },
  {
   "cell_type": "code",
   "execution_count": 5,
   "metadata": {},
   "outputs": [
    {
     "name": "stdout",
     "output_type": "stream",
     "text": [
      "число турниров в 2019: 657\n",
      "число турниров в 2029: 386\n"
     ]
    }
   ],
   "source": [
    "# берем турниры 2019 в train 2020 в test\n",
    "tournaments_2019 = {i : tournaments[i] for i in results_corrected.keys() if tournaments[i]['dateStart'][:4] == '2019'}\n",
    "tournaments_2020 = {i : tournaments[i] for i in results_corrected.keys() if tournaments[i]['dateStart'][:4] == '2020'}\n",
    "\n",
    "results_2019  = {i : results_corrected[i] for i in results_corrected.keys() if tournaments[i]['dateStart'][:4] == '2019'}\n",
    "results_2020  = {i : results_corrected[i] for i in results_corrected.keys() if tournaments[i]['dateStart'][:4] == '2020'}\n",
    "print('число турниров в 2019:', len(tournaments_2019))\n",
    "print('число турниров в 2029:', len(tournaments_2020))"
   ]
  },
  {
   "cell_type": "markdown",
   "metadata": {},
   "source": [
    "## Task 2\n",
    "\n",
    "Как обучаем рейтинг игроков: \n",
    "    \n",
    "    1) Обучаем модель повопросных результатов для каждого из играков\n",
    "    2) Добавим в признаки среднее число правильных ответов на вопрос и число правильных ответов на турнире\n",
    "    3) Закодируем игроков - onehot вектором\n",
    "    4) Обучаем на этих признаках\n",
    "    5) Используем веса при onehot векторе игрока, как его силу\n",
    "    6) Команду будем понимать как сумма весов игроков в этой команде\n",
    "    7) И посмотрим метрики ранговой коррелиации Спирмана и Кенделла для 2020 года"
   ]
  },
  {
   "cell_type": "code",
   "execution_count": 6,
   "metadata": {},
   "outputs": [],
   "source": [
    "def to_int(x):\n",
    "    try: \n",
    "        return int(x)\n",
    "    except:\n",
    "        return 0"
   ]
  },
  {
   "cell_type": "code",
   "execution_count": 7,
   "metadata": {},
   "outputs": [],
   "source": [
    "data = {\n",
    "    'tournament_id': [],\n",
    "    'team_id': [],\n",
    "    'player_id': [],\n",
    "    'question_num': [],\n",
    "    'score': []\n",
    "}\n",
    "\n",
    "for i in results_2019.keys():\n",
    "    for team in results_2019[i]:\n",
    "        for player in team['teamMembers']: \n",
    "            for j in range(len(team['mask'])):\n",
    "                data['tournament_id'].append(i)\n",
    "                data['team_id'].append(team['team']['id'])\n",
    "                data['question_num'].append(j+1)\n",
    "                data['player_id'].append(player['player']['id'])\n",
    "                data['score'].append(to_int(team['mask'][j]))\n",
    "\n",
    "data = pd.DataFrame.from_dict(data)"
   ]
  },
  {
   "cell_type": "code",
   "execution_count": 8,
   "metadata": {},
   "outputs": [],
   "source": [
    "# team_player = {\n",
    "#     'tournament_id': [],\n",
    "#     'team_id': [],\n",
    "#     'player_id': []\n",
    "# }\n",
    "\n",
    "# for i in results_2019.keys():\n",
    "#     for team in results_2019[i]:\n",
    "#         for player in team['teamMembers']:\n",
    "#             team_player['tournament_id'].append(i)\n",
    "#             team_player['team_id'].append(team['team']['id'])\n",
    "#             team_player['player_id'].append(player['player']['id'])\n",
    "            \n",
    "\n",
    "# team_player = pd.DataFrame.from_dict(team_player)"
   ]
  },
  {
   "cell_type": "code",
   "execution_count": 9,
   "metadata": {},
   "outputs": [],
   "source": [
    "# team_player.tail()"
   ]
  },
  {
   "cell_type": "code",
   "execution_count": 10,
   "metadata": {},
   "outputs": [
    {
     "data": {
      "text/html": [
       "<div>\n",
       "<style scoped>\n",
       "    .dataframe tbody tr th:only-of-type {\n",
       "        vertical-align: middle;\n",
       "    }\n",
       "\n",
       "    .dataframe tbody tr th {\n",
       "        vertical-align: top;\n",
       "    }\n",
       "\n",
       "    .dataframe thead th {\n",
       "        text-align: right;\n",
       "    }\n",
       "</style>\n",
       "<table border=\"1\" class=\"dataframe\">\n",
       "  <thead>\n",
       "    <tr style=\"text-align: right;\">\n",
       "      <th></th>\n",
       "      <th>tournament_id</th>\n",
       "      <th>team_id</th>\n",
       "      <th>player_id</th>\n",
       "      <th>question_num</th>\n",
       "      <th>score</th>\n",
       "    </tr>\n",
       "  </thead>\n",
       "  <tbody>\n",
       "    <tr>\n",
       "      <th>15268625</th>\n",
       "      <td>6191</td>\n",
       "      <td>76301</td>\n",
       "      <td>217859</td>\n",
       "      <td>32</td>\n",
       "      <td>0</td>\n",
       "    </tr>\n",
       "    <tr>\n",
       "      <th>15268626</th>\n",
       "      <td>6191</td>\n",
       "      <td>76301</td>\n",
       "      <td>217859</td>\n",
       "      <td>33</td>\n",
       "      <td>0</td>\n",
       "    </tr>\n",
       "    <tr>\n",
       "      <th>15268627</th>\n",
       "      <td>6191</td>\n",
       "      <td>76301</td>\n",
       "      <td>217859</td>\n",
       "      <td>34</td>\n",
       "      <td>1</td>\n",
       "    </tr>\n",
       "    <tr>\n",
       "      <th>15268628</th>\n",
       "      <td>6191</td>\n",
       "      <td>76301</td>\n",
       "      <td>217859</td>\n",
       "      <td>35</td>\n",
       "      <td>0</td>\n",
       "    </tr>\n",
       "    <tr>\n",
       "      <th>15268629</th>\n",
       "      <td>6191</td>\n",
       "      <td>76301</td>\n",
       "      <td>217859</td>\n",
       "      <td>36</td>\n",
       "      <td>0</td>\n",
       "    </tr>\n",
       "  </tbody>\n",
       "</table>\n",
       "</div>"
      ],
      "text/plain": [
       "          tournament_id  team_id  player_id  question_num  score\n",
       "15268625           6191    76301     217859            32      0\n",
       "15268626           6191    76301     217859            33      0\n",
       "15268627           6191    76301     217859            34      1\n",
       "15268628           6191    76301     217859            35      0\n",
       "15268629           6191    76301     217859            36      0"
      ]
     },
     "execution_count": 10,
     "metadata": {},
     "output_type": "execute_result"
    }
   ],
   "source": [
    "data.tail()"
   ]
  },
  {
   "cell_type": "code",
   "execution_count": 11,
   "metadata": {},
   "outputs": [
    {
     "data": {
      "text/html": [
       "<div>\n",
       "<style scoped>\n",
       "    .dataframe tbody tr th:only-of-type {\n",
       "        vertical-align: middle;\n",
       "    }\n",
       "\n",
       "    .dataframe tbody tr th {\n",
       "        vertical-align: top;\n",
       "    }\n",
       "\n",
       "    .dataframe thead th {\n",
       "        text-align: right;\n",
       "    }\n",
       "</style>\n",
       "<table border=\"1\" class=\"dataframe\">\n",
       "  <thead>\n",
       "    <tr style=\"text-align: right;\">\n",
       "      <th></th>\n",
       "      <th>tournament_id</th>\n",
       "      <th>question_num</th>\n",
       "      <th>score</th>\n",
       "    </tr>\n",
       "  </thead>\n",
       "  <tbody>\n",
       "    <tr>\n",
       "      <th>0</th>\n",
       "      <td>4772</td>\n",
       "      <td>1</td>\n",
       "      <td>0.892295</td>\n",
       "    </tr>\n",
       "    <tr>\n",
       "      <th>1</th>\n",
       "      <td>4772</td>\n",
       "      <td>2</td>\n",
       "      <td>0.776305</td>\n",
       "    </tr>\n",
       "    <tr>\n",
       "      <th>2</th>\n",
       "      <td>4772</td>\n",
       "      <td>3</td>\n",
       "      <td>0.463132</td>\n",
       "    </tr>\n",
       "    <tr>\n",
       "      <th>3</th>\n",
       "      <td>4772</td>\n",
       "      <td>4</td>\n",
       "      <td>0.541839</td>\n",
       "    </tr>\n",
       "    <tr>\n",
       "      <th>4</th>\n",
       "      <td>4772</td>\n",
       "      <td>5</td>\n",
       "      <td>0.888981</td>\n",
       "    </tr>\n",
       "  </tbody>\n",
       "</table>\n",
       "</div>"
      ],
      "text/plain": [
       "   tournament_id  question_num     score\n",
       "0           4772             1  0.892295\n",
       "1           4772             2  0.776305\n",
       "2           4772             3  0.463132\n",
       "3           4772             4  0.541839\n",
       "4           4772             5  0.888981"
      ]
     },
     "execution_count": 11,
     "metadata": {},
     "output_type": "execute_result"
    }
   ],
   "source": [
    "question_score = data.groupby(['tournament_id', 'question_num'])['score'].mean().reset_index()\n",
    "question_score.head()"
   ]
  },
  {
   "cell_type": "code",
   "execution_count": 12,
   "metadata": {},
   "outputs": [
    {
     "data": {
      "text/html": [
       "<div>\n",
       "<style scoped>\n",
       "    .dataframe tbody tr th:only-of-type {\n",
       "        vertical-align: middle;\n",
       "    }\n",
       "\n",
       "    .dataframe tbody tr th {\n",
       "        vertical-align: top;\n",
       "    }\n",
       "\n",
       "    .dataframe thead th {\n",
       "        text-align: right;\n",
       "    }\n",
       "</style>\n",
       "<table border=\"1\" class=\"dataframe\">\n",
       "  <thead>\n",
       "    <tr style=\"text-align: right;\">\n",
       "      <th></th>\n",
       "      <th>tournament_id</th>\n",
       "      <th>score</th>\n",
       "    </tr>\n",
       "  </thead>\n",
       "  <tbody>\n",
       "    <tr>\n",
       "      <th>0</th>\n",
       "      <td>4772</td>\n",
       "      <td>0.475605</td>\n",
       "    </tr>\n",
       "    <tr>\n",
       "      <th>1</th>\n",
       "      <td>4973</td>\n",
       "      <td>0.480189</td>\n",
       "    </tr>\n",
       "    <tr>\n",
       "      <th>2</th>\n",
       "      <td>4974</td>\n",
       "      <td>0.474859</td>\n",
       "    </tr>\n",
       "    <tr>\n",
       "      <th>3</th>\n",
       "      <td>4975</td>\n",
       "      <td>0.444517</td>\n",
       "    </tr>\n",
       "    <tr>\n",
       "      <th>4</th>\n",
       "      <td>5000</td>\n",
       "      <td>0.606838</td>\n",
       "    </tr>\n",
       "  </tbody>\n",
       "</table>\n",
       "</div>"
      ],
      "text/plain": [
       "   tournament_id     score\n",
       "0           4772  0.475605\n",
       "1           4973  0.480189\n",
       "2           4974  0.474859\n",
       "3           4975  0.444517\n",
       "4           5000  0.606838"
      ]
     },
     "execution_count": 12,
     "metadata": {},
     "output_type": "execute_result"
    }
   ],
   "source": [
    "tournament_score = data.groupby(['tournament_id'])['score'].mean().reset_index()\n",
    "tournament_score.head()"
   ]
  },
  {
   "cell_type": "code",
   "execution_count": 13,
   "metadata": {},
   "outputs": [],
   "source": [
    "data = data.merge(tournament_score, on = 'tournament_id', suffixes = ('','_tournament') )\n",
    "data = data.merge(question_score, on = ['tournament_id', 'question_num'], suffixes = ('','_question'))"
   ]
  },
  {
   "cell_type": "code",
   "execution_count": 14,
   "metadata": {},
   "outputs": [
    {
     "data": {
      "text/html": [
       "<div>\n",
       "<style scoped>\n",
       "    .dataframe tbody tr th:only-of-type {\n",
       "        vertical-align: middle;\n",
       "    }\n",
       "\n",
       "    .dataframe tbody tr th {\n",
       "        vertical-align: top;\n",
       "    }\n",
       "\n",
       "    .dataframe thead th {\n",
       "        text-align: right;\n",
       "    }\n",
       "</style>\n",
       "<table border=\"1\" class=\"dataframe\">\n",
       "  <thead>\n",
       "    <tr style=\"text-align: right;\">\n",
       "      <th></th>\n",
       "      <th>tournament_id</th>\n",
       "      <th>team_id</th>\n",
       "      <th>player_id</th>\n",
       "      <th>question_num</th>\n",
       "      <th>score</th>\n",
       "      <th>score_tournament</th>\n",
       "      <th>score_question</th>\n",
       "    </tr>\n",
       "  </thead>\n",
       "  <tbody>\n",
       "    <tr>\n",
       "      <th>15268625</th>\n",
       "      <td>6191</td>\n",
       "      <td>76301</td>\n",
       "      <td>217855</td>\n",
       "      <td>36</td>\n",
       "      <td>0</td>\n",
       "      <td>0.28252</td>\n",
       "      <td>0.243902</td>\n",
       "    </tr>\n",
       "    <tr>\n",
       "      <th>15268626</th>\n",
       "      <td>6191</td>\n",
       "      <td>76301</td>\n",
       "      <td>217856</td>\n",
       "      <td>36</td>\n",
       "      <td>0</td>\n",
       "      <td>0.28252</td>\n",
       "      <td>0.243902</td>\n",
       "    </tr>\n",
       "    <tr>\n",
       "      <th>15268627</th>\n",
       "      <td>6191</td>\n",
       "      <td>76301</td>\n",
       "      <td>217857</td>\n",
       "      <td>36</td>\n",
       "      <td>0</td>\n",
       "      <td>0.28252</td>\n",
       "      <td>0.243902</td>\n",
       "    </tr>\n",
       "    <tr>\n",
       "      <th>15268628</th>\n",
       "      <td>6191</td>\n",
       "      <td>76301</td>\n",
       "      <td>217858</td>\n",
       "      <td>36</td>\n",
       "      <td>0</td>\n",
       "      <td>0.28252</td>\n",
       "      <td>0.243902</td>\n",
       "    </tr>\n",
       "    <tr>\n",
       "      <th>15268629</th>\n",
       "      <td>6191</td>\n",
       "      <td>76301</td>\n",
       "      <td>217859</td>\n",
       "      <td>36</td>\n",
       "      <td>0</td>\n",
       "      <td>0.28252</td>\n",
       "      <td>0.243902</td>\n",
       "    </tr>\n",
       "  </tbody>\n",
       "</table>\n",
       "</div>"
      ],
      "text/plain": [
       "          tournament_id  team_id  player_id  question_num  score  \\\n",
       "15268625           6191    76301     217855            36      0   \n",
       "15268626           6191    76301     217856            36      0   \n",
       "15268627           6191    76301     217857            36      0   \n",
       "15268628           6191    76301     217858            36      0   \n",
       "15268629           6191    76301     217859            36      0   \n",
       "\n",
       "          score_tournament  score_question  \n",
       "15268625           0.28252        0.243902  \n",
       "15268626           0.28252        0.243902  \n",
       "15268627           0.28252        0.243902  \n",
       "15268628           0.28252        0.243902  \n",
       "15268629           0.28252        0.243902  "
      ]
     },
     "execution_count": 14,
     "metadata": {},
     "output_type": "execute_result"
    }
   ],
   "source": [
    "data.tail()"
   ]
  },
  {
   "cell_type": "code",
   "execution_count": 15,
   "metadata": {},
   "outputs": [],
   "source": [
    "encoder = OneHotEncoder().fit(data['player_id'].to_frame())"
   ]
  },
  {
   "cell_type": "code",
   "execution_count": 16,
   "metadata": {},
   "outputs": [],
   "source": [
    "X_train = hstack([csr_matrix(data.drop(columns = ['tournament_id', 'team_id', 'player_id', 'question_num', 'score']).values),\n",
    "        encoder.transform(data['player_id'].to_frame())])\n",
    "y_train = data['score']"
   ]
  },
  {
   "cell_type": "code",
   "execution_count": 17,
   "metadata": {},
   "outputs": [],
   "source": [
    "model = LogisticRegression(solver = 'saga').fit(X_train, y_train)"
   ]
  },
  {
   "cell_type": "code",
   "execution_count": 18,
   "metadata": {},
   "outputs": [
    {
     "data": {
      "text/plain": [
       "array([[ 0.36454272,  5.62393033, -0.08720916, ..., -1.04266369,\n",
       "        -0.03922646,  1.26033551]])"
      ]
     },
     "execution_count": 18,
     "metadata": {},
     "output_type": "execute_result"
    }
   ],
   "source": [
    "model.coef_"
   ]
  },
  {
   "cell_type": "code",
   "execution_count": 19,
   "metadata": {},
   "outputs": [],
   "source": [
    "with open('baseline.pkl', 'wb') as file:\n",
    "    pickle.dump(model, file)"
   ]
  },
  {
   "cell_type": "markdown",
   "metadata": {},
   "source": [
    "## Task 3"
   ]
  },
  {
   "cell_type": "code",
   "execution_count": 20,
   "metadata": {},
   "outputs": [],
   "source": [
    "from scipy.stats import spearmanr, kendalltau"
   ]
  },
  {
   "cell_type": "code",
   "execution_count": 23,
   "metadata": {},
   "outputs": [],
   "source": [
    "weights = model.coef_[0][2:]"
   ]
  },
  {
   "cell_type": "code",
   "execution_count": 77,
   "metadata": {},
   "outputs": [],
   "source": [
    "players = []\n",
    "for i in results_2020.keys():\n",
    "    for team in results_2020[i]:\n",
    "        for player in team['teamMembers']: \n",
    "            players.append(player['player']['id'])\n",
    "            \n",
    "players = np.unique(players)"
   ]
  },
  {
   "cell_type": "code",
   "execution_count": 98,
   "metadata": {},
   "outputs": [],
   "source": [
    "players_w = {}\n",
    "for player_id in players:\n",
    "    if player_id in encoder.categories_[0]:\n",
    "        players_w[player_id] = weights[encoder.transform([[player_id]]).toarray()[0]==1.]\n",
    "    else:\n",
    "        players_w[player_id] = 0."
   ]
  },
  {
   "cell_type": "code",
   "execution_count": 118,
   "metadata": {},
   "outputs": [],
   "source": [
    "spearman = []\n",
    "kendall = []\n",
    "\n",
    "for i in results_2020.keys():\n",
    "    positions = []\n",
    "    predicted_pos = []\n",
    "    for team in results_2020[i]:\n",
    "        positions.append(team['position'])\n",
    "        w = 0\n",
    "        for player in team['teamMembers']: \n",
    "            w = w + players_w[player['player']['id']]\n",
    "        predicted_pos.append(w)\n",
    "    spearman.append(spearmanr(positions,predicted_pos)[0])\n",
    "    kendall.append(kendalltau(positions,predicted_pos)[0])\n",
    "    \n",
    "spearman = [el for el in spearman if str(el) != 'nan']\n",
    "kendall = [el for el in kendall if str(el) != 'nan']"
   ]
  },
  {
   "cell_type": "code",
   "execution_count": 119,
   "metadata": {},
   "outputs": [
    {
     "data": {
      "text/plain": [
       "-0.7407596025220449"
      ]
     },
     "execution_count": 119,
     "metadata": {},
     "output_type": "execute_result"
    }
   ],
   "source": [
    "np.mean(spearman)"
   ]
  },
  {
   "cell_type": "code",
   "execution_count": 120,
   "metadata": {},
   "outputs": [
    {
     "data": {
      "text/plain": [
       "-0.578495905718968"
      ]
     },
     "execution_count": 120,
     "metadata": {},
     "output_type": "execute_result"
    }
   ],
   "source": [
    "np.mean(kendall)"
   ]
  },
  {
   "cell_type": "markdown",
   "metadata": {},
   "source": [
    "Замечание: почему коррелиация отрицательная\n",
    "\n",
    "Веса игроков тем больше, чем лучше игрок отвечает на вопросы.\n",
    "чем лучше игрок играет тем, он выше в рейтинге => его позиция в турнире меньше"
   ]
  },
  {
   "cell_type": "markdown",
   "metadata": {},
   "source": [
    "## Task 4"
   ]
  },
  {
   "cell_type": "markdown",
   "metadata": {},
   "source": [
    "Будем использовать метод Presence-Only метод и EM алгоритм:\n",
    "\n",
    "    Если команда отвечает на вопрос -> кто-то ответил на вопрос и мы не можем сказать кто именно \n",
    "    Если команда не отвечает на вопрос -> никто не ответил на вопрос "
   ]
  },
  {
   "cell_type": "code",
   "execution_count": 173,
   "metadata": {},
   "outputs": [],
   "source": [
    "from sklearn.linear_model import LinearRegression"
   ]
  },
  {
   "cell_type": "code",
   "execution_count": 304,
   "metadata": {},
   "outputs": [],
   "source": [
    "pi = 0.1\n",
    "n_p = len(data['score'])-sum(data['score'])\n",
    "n_u = sum(data['score'])"
   ]
  },
  {
   "cell_type": "code",
   "execution_count": 305,
   "metadata": {},
   "outputs": [],
   "source": [
    "def em_step(X_train, y_train, y_true, first = True):\n",
    "    y_train_mod = np.log(np.clip(y_train, 1e-6, 1-1e-6)/(1-np.clip(y_train, 1e-6, 1-1e-6)))\n",
    "    if first:\n",
    "        y_train = y_train.copy()\n",
    "        y_train[y_true == 1.] = pi\n",
    "    lm = LinearRegression().fit(X_train, y_train_mod)\n",
    "    y_pred_mod = lm.predict(X_train) - np.log((n_p + pi * n_u)/(pi * n_u))\n",
    "    y_pred = np.exp(y_pred_mod)/(1 + np.exp(y_pred_mod))\n",
    "    y_pred[y_true == 0] = 0.\n",
    "    return y_pred, lm.coef_"
   ]
  },
  {
   "cell_type": "code",
   "execution_count": 307,
   "metadata": {},
   "outputs": [],
   "source": [
    "y, _ = em_step(X_train, y_train, y_train)"
   ]
  },
  {
   "cell_type": "code",
   "execution_count": 308,
   "metadata": {},
   "outputs": [],
   "source": [
    "y, _ = em_step(X_train, y, y_train, first = False)"
   ]
  },
  {
   "cell_type": "code",
   "execution_count": 309,
   "metadata": {},
   "outputs": [],
   "source": [
    "y, coef = em_step(X_train, y, y_train, first = False)"
   ]
  },
  {
   "cell_type": "code",
   "execution_count": 310,
   "metadata": {},
   "outputs": [],
   "source": [
    "weights = coef[2:]"
   ]
  },
  {
   "cell_type": "code",
   "execution_count": 311,
   "metadata": {},
   "outputs": [],
   "source": [
    "players_w = {}\n",
    "for player_id in players:\n",
    "    if player_id in encoder.categories_[0]:\n",
    "        players_w[player_id] = weights[encoder.transform([[player_id]]).toarray()[0]==1.]\n",
    "    else:\n",
    "        players_w[player_id] = 0."
   ]
  },
  {
   "cell_type": "code",
   "execution_count": 312,
   "metadata": {},
   "outputs": [],
   "source": [
    "spearman = []\n",
    "kendall = []\n",
    "\n",
    "for i in results_2020.keys():\n",
    "    positions = []\n",
    "    predicted_pos = []\n",
    "    for team in results_2020[i]:\n",
    "        positions.append(team['position'])\n",
    "        w = 0\n",
    "        for player in team['teamMembers']: \n",
    "            w = w + players_w[player['player']['id']]\n",
    "        predicted_pos.append(w)\n",
    "    spearman.append(spearmanr(positions,predicted_pos)[0])\n",
    "    kendall.append(kendalltau(positions,predicted_pos)[0])\n",
    "    \n",
    "spearman = [el for el in spearman if str(el) != 'nan']\n",
    "kendall = [el for el in kendall if str(el) != 'nan']"
   ]
  },
  {
   "cell_type": "code",
   "execution_count": 313,
   "metadata": {},
   "outputs": [
    {
     "data": {
      "text/plain": [
       "-0.7125747310536112"
      ]
     },
     "execution_count": 313,
     "metadata": {},
     "output_type": "execute_result"
    }
   ],
   "source": [
    "np.mean(spearman)"
   ]
  },
  {
   "cell_type": "code",
   "execution_count": 314,
   "metadata": {},
   "outputs": [
    {
     "data": {
      "text/plain": [
       "-0.5528752732449508"
      ]
     },
     "execution_count": 314,
     "metadata": {},
     "output_type": "execute_result"
    }
   ],
   "source": [
    "np.mean(kendall)"
   ]
  },
  {
   "cell_type": "code",
   "execution_count": null,
   "metadata": {},
   "outputs": [],
   "source": [
    "## Task 5"
   ]
  }
 ],
 "metadata": {
  "kernelspec": {
   "display_name": "Python 3",
   "language": "python",
   "name": "python3"
  },
  "language_info": {
   "codemirror_mode": {
    "name": "ipython",
    "version": 3
   },
   "file_extension": ".py",
   "mimetype": "text/x-python",
   "name": "python",
   "nbconvert_exporter": "python",
   "pygments_lexer": "ipython3",
   "version": "3.7.6"
  }
 },
 "nbformat": 4,
 "nbformat_minor": 4
}
